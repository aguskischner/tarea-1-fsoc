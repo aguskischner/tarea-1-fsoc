{
 "cells": [
  {
   "cell_type": "code",
   "execution_count": 1,
   "id": "206c3968-ef7e-4a27-9b41-db51bf7abc52",
   "metadata": {},
   "outputs": [],
   "source": [
    "#ejercicio 0 y 1"
   ]
  },
  {
   "cell_type": "code",
   "execution_count": 2,
   "id": "6345b921-98b0-414e-a893-5e18375b3d0e",
   "metadata": {},
   "outputs": [
    {
     "name": "stdin",
     "output_type": "stream",
     "text": [
      "Ingrese nombre Agustina\n"
     ]
    }
   ],
   "source": [
    "nombre=input('Ingrese nombre')"
   ]
  },
  {
   "cell_type": "code",
   "execution_count": 3,
   "id": "96536f00-e5b8-4c44-9987-3efe34b585f2",
   "metadata": {},
   "outputs": [
    {
     "name": "stdin",
     "output_type": "stream",
     "text": [
      "Ingrese edad 24\n"
     ]
    }
   ],
   "source": [
    "edad=input('Ingrese edad')"
   ]
  },
  {
   "cell_type": "code",
   "execution_count": 55,
   "id": "c0b3abb6-ba57-43b7-ba7a-a8e0484df40b",
   "metadata": {},
   "outputs": [],
   "source": [
    "print=('Hola', nombre, 'tenes', edad, 'años')"
   ]
  },
  {
   "cell_type": "code",
   "execution_count": 53,
   "id": "8bfe2616-1d54-46a0-8d5f-65d7c766c734",
   "metadata": {},
   "outputs": [
    {
     "data": {
      "text/plain": [
       "('Hola', 'Agustina', 'tenes', '24', 'años')"
      ]
     },
     "execution_count": 53,
     "metadata": {},
     "output_type": "execute_result"
    }
   ],
   "source": [
    "print"
   ]
  },
  {
   "cell_type": "code",
   "execution_count": 5,
   "id": "3c2c7f4d-3911-4538-aa90-77fb0ab3357b",
   "metadata": {},
   "outputs": [],
   "source": [
    "#ejercicio 2"
   ]
  },
  {
   "cell_type": "code",
   "execution_count": 32,
   "id": "334ae9b5-9c45-4af4-a0a3-eb2b5ae878cf",
   "metadata": {},
   "outputs": [
    {
     "name": "stdin",
     "output_type": "stream",
     "text": [
      "Ingresar un numero 7\n"
     ]
    },
    {
     "data": {
      "text/plain": [
       "'7'"
      ]
     },
     "execution_count": 32,
     "metadata": {},
     "output_type": "execute_result"
    }
   ],
   "source": [
    "numero=int(numero)\n",
    "input('Ingresar un numero')"
   ]
  },
  {
   "cell_type": "code",
   "execution_count": 37,
   "id": "6de03ee0-1656-4788-a365-f142f3946541",
   "metadata": {},
   "outputs": [],
   "source": [
    "if (numero)> 0:\n",
    "    print=('El numero es positivo')"
   ]
  },
  {
   "cell_type": "code",
   "execution_count": 47,
   "id": "004bb865-6b5c-4847-a7e3-b7a45539461c",
   "metadata": {},
   "outputs": [
    {
     "data": {
      "text/plain": [
       "'El numero es positivo'"
      ]
     },
     "execution_count": 47,
     "metadata": {},
     "output_type": "execute_result"
    }
   ],
   "source": [
    "print "
   ]
  },
  {
   "cell_type": "code",
   "execution_count": 39,
   "id": "027f5d8b-d2a4-489b-930f-6acc736cd0ec",
   "metadata": {},
   "outputs": [],
   "source": [
    "# ejercicio 3"
   ]
  },
  {
   "cell_type": "code",
   "execution_count": 43,
   "id": "5ae43b6f-3587-44bf-b0dd-3149ea7cda3a",
   "metadata": {},
   "outputs": [
    {
     "name": "stdin",
     "output_type": "stream",
     "text": [
      "Ingrese numero 7\n"
     ]
    }
   ],
   "source": [
    "primernumero=input('Ingrese numero')"
   ]
  },
  {
   "cell_type": "code",
   "execution_count": 44,
   "id": "0cb024e6-bbb8-4a49-b5e7-dccd3abc390a",
   "metadata": {},
   "outputs": [
    {
     "name": "stdin",
     "output_type": "stream",
     "text": [
      "Ingrese otro numero 9\n"
     ]
    }
   ],
   "source": [
    "segundonumero=input('Ingrese otro numero')"
   ]
  },
  {
   "cell_type": "code",
   "execution_count": 59,
   "id": "2e2e88ef-e840-46f8-b5e2-72e8a4912364",
   "metadata": {},
   "outputs": [],
   "source": [
    "if(primernumero>segundonumero):\n",
    "    print('El primer numero es mas grande que el segundo')\n",
    "else:print=('El segundo numero es mas grande que el primero')"
   ]
  },
  {
   "cell_type": "code",
   "execution_count": 60,
   "id": "775a8bde-8e91-4159-92d8-a49ad84808da",
   "metadata": {},
   "outputs": [
    {
     "data": {
      "text/plain": [
       "'El segundo numero es mas grande que el primero'"
      ]
     },
     "execution_count": 60,
     "metadata": {},
     "output_type": "execute_result"
    }
   ],
   "source": [
    "print"
   ]
  },
  {
   "cell_type": "code",
   "execution_count": 62,
   "id": "585612c3-2c12-43ea-8f91-a86d12d8748d",
   "metadata": {},
   "outputs": [],
   "source": [
    "#ejercicio 4"
   ]
  },
  {
   "cell_type": "code",
   "execution_count": 92,
   "id": "3f475903-a53a-4759-a445-fa67b2cb0c62",
   "metadata": {},
   "outputs": [
    {
     "name": "stdin",
     "output_type": "stream",
     "text": [
      "Ingrese su calificación en el examen 83\n"
     ]
    }
   ],
   "source": [
    "calificacion=int(input('Ingrese su calificación en el examen'))"
   ]
  },
  {
   "cell_type": "code",
   "execution_count": 77,
   "id": "f0b29233-0dd7-4db2-ad23-9a1c23263213",
   "metadata": {},
   "outputs": [
    {
     "data": {
      "text/plain": [
       "83"
      ]
     },
     "execution_count": 77,
     "metadata": {},
     "output_type": "execute_result"
    }
   ],
   "source": [
    "print"
   ]
  },
  {
   "cell_type": "code",
   "execution_count": 94,
   "id": "728f58f3-c280-429b-8be8-121dd6c4079b",
   "metadata": {},
   "outputs": [
    {
     "ename": "SyntaxError",
     "evalue": "invalid syntax (4140720065.py, line 1)",
     "output_type": "error",
     "traceback": [
      "\u001b[1;36m  Cell \u001b[1;32mIn[94], line 1\u001b[1;36m\u001b[0m\n\u001b[1;33m    if (calificacion) >90 and <100:\u001b[0m\n\u001b[1;37m                              ^\u001b[0m\n\u001b[1;31mSyntaxError\u001b[0m\u001b[1;31m:\u001b[0m invalid syntax\n"
     ]
    }
   ],
   "source": [
    "if (calificacion) >90 and <100:\n",
    "    print=('A')\n",
    "    elif(calificacion)>80 and <89:\n",
    "    print=('B')\n",
    "elif= (calificacion)>70 and <79:\n",
    "print=('C')\n",
    "elif= (calificacion)>60 and <69>\n",
    "print=('D')\n",
    "elif= (calificacion)<60:\n",
    "print=('F')"
   ]
  }
 ],
 "metadata": {
  "kernelspec": {
   "display_name": "Python 3 (ipykernel)",
   "language": "python",
   "name": "python3"
  },
  "language_info": {
   "codemirror_mode": {
    "name": "ipython",
    "version": 3
   },
   "file_extension": ".py",
   "mimetype": "text/x-python",
   "name": "python",
   "nbconvert_exporter": "python",
   "pygments_lexer": "ipython3",
   "version": "3.11.5"
  }
 },
 "nbformat": 4,
 "nbformat_minor": 5
}
